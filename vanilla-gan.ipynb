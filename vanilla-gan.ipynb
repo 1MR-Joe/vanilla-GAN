{
 "cells": [
  {
   "cell_type": "markdown",
   "metadata": {},
   "source": [
    "# Setup"
   ]
  },
  {
   "cell_type": "code",
   "execution_count": 2,
   "metadata": {},
   "outputs": [],
   "source": [
    "import torch\n",
    "import torch.nn as nn\n",
    "import torch.optim as optim\n",
    "from torchsummary import summary"
   ]
  },
  {
   "cell_type": "code",
   "execution_count": 8,
   "metadata": {},
   "outputs": [
    {
     "data": {
      "text/plain": [
       "'cpu'"
      ]
     },
     "execution_count": 8,
     "metadata": {},
     "output_type": "execute_result"
    }
   ],
   "source": [
    "device = 'cpu'\n",
    "device"
   ]
  },
  {
   "cell_type": "markdown",
   "metadata": {},
   "source": [
    "# Create Discriminator\n",
    "- using the MNIST dataset, a single image is going to be 28x28x1\n",
    "- a single color channel (grayscale) 28x28 images"
   ]
  },
  {
   "cell_type": "code",
   "execution_count": 9,
   "metadata": {},
   "outputs": [
    {
     "name": "stdout",
     "output_type": "stream",
     "text": [
      "----------------------------------------------------------------\n",
      "        Layer (type)               Output Shape         Param #\n",
      "================================================================\n",
      "            Conv2d-1           [-1, 64, 26, 26]             640\n",
      "              ReLU-2           [-1, 64, 26, 26]               0\n",
      "            Conv2d-3          [-1, 128, 24, 24]          73,856\n",
      "              ReLU-4          [-1, 128, 24, 24]               0\n",
      "            Conv2d-5          [-1, 256, 22, 22]         295,168\n",
      "              ReLU-6          [-1, 256, 22, 22]               0\n",
      "            Conv2d-7          [-1, 256, 20, 20]         590,080\n",
      "              ReLU-8          [-1, 256, 20, 20]               0\n",
      "           Flatten-9               [-1, 102400]               0\n",
      "           Linear-10                    [-1, 1]         102,401\n",
      "================================================================\n",
      "Total params: 1,062,145\n",
      "Trainable params: 1,062,145\n",
      "Non-trainable params: 0\n",
      "----------------------------------------------------------------\n",
      "Input size (MB): 0.00\n",
      "Forward/backward pass size (MB): 6.02\n",
      "Params size (MB): 4.05\n",
      "Estimated Total Size (MB): 10.07\n",
      "----------------------------------------------------------------\n"
     ]
    }
   ],
   "source": [
    "kernel_sz = (3, 3)\n",
    "stride = 1\n",
    "\n",
    "Discriminator = nn.Sequential(\n",
    "    # 1x28x28\n",
    "    nn.Conv2d(in_channels=1, out_channels=64, kernel_size=kernel_sz, stride=stride), # 64x26x26\n",
    "    nn.ReLU(),\n",
    "    nn.Conv2d(in_channels=64, out_channels=128, kernel_size=kernel_sz, stride=stride), # 128x24x24\n",
    "    nn.ReLU(),\n",
    "    nn.Conv2d(in_channels=128, out_channels=256, kernel_size=kernel_sz, stride=stride), # 256x22x22\n",
    "    nn.ReLU(),\n",
    "    nn.Conv2d(in_channels=256, out_channels=256, kernel_size=kernel_sz, stride=stride), # 256x20x20\n",
    "    nn.ReLU(),\n",
    "    nn.Flatten(),\n",
    "    nn.Linear(in_features=256 * 20 * 20, out_features=1)\n",
    ")\n",
    "\n",
    "Discriminator = Discriminator.to(device) # ensuring the whole nn is in a single device\n",
    "summary(model=Discriminator, input_size=(1, 28, 28), device=str(device))"
   ]
  }
 ],
 "metadata": {
  "kernelspec": {
   "display_name": "Python 3",
   "language": "python",
   "name": "python3"
  },
  "language_info": {
   "codemirror_mode": {
    "name": "ipython",
    "version": 3
   },
   "file_extension": ".py",
   "mimetype": "text/x-python",
   "name": "python",
   "nbconvert_exporter": "python",
   "pygments_lexer": "ipython3",
   "version": "3.12.3"
  }
 },
 "nbformat": 4,
 "nbformat_minor": 2
}
