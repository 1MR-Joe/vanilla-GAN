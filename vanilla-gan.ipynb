{
 "cells": [
  {
   "cell_type": "markdown",
   "metadata": {},
   "source": [
    "# Setup"
   ]
  },
  {
   "cell_type": "code",
   "execution_count": 8,
   "metadata": {},
   "outputs": [],
   "source": [
    "import torch\n",
    "import torch.nn as nn\n",
    "import torch.optim as optim\n",
    "import torchvision.datasets as datasets\n",
    "import torchvision.transforms as transforms\n",
    "from torch.utils.data import DataLoader\n",
    "from torchsummary import summary\n",
    "import matplotlib.pyplot as plt"
   ]
  },
  {
   "cell_type": "code",
   "execution_count": 2,
   "metadata": {},
   "outputs": [
    {
     "data": {
      "text/plain": [
       "'cuda'"
      ]
     },
     "execution_count": 2,
     "metadata": {},
     "output_type": "execute_result"
    }
   ],
   "source": [
    "device = \"cuda\" if torch.cuda.is_available() else \"cpu\"\n",
    "device"
   ]
  },
  {
   "cell_type": "markdown",
   "metadata": {},
   "source": [
    "# GAN\n",
    "![image about general adversarial networks (GAN)](./resources/gan.png)"
   ]
  },
  {
   "cell_type": "markdown",
   "metadata": {},
   "source": [
    "### Create Discriminator\n",
    "- using the MNIST dataset, a single image is going to be 28x28x1\n",
    "- a single color channel (grayscale) 28x28 images\n",
    "<br/> <br/><br/>\n",
    "![convolutional layer output formula](./resources/convolutional-layer-formula.png)\n",
    "- formula for calculating the output dimension of the convolution operation"
   ]
  },
  {
   "cell_type": "code",
   "execution_count": 3,
   "metadata": {},
   "outputs": [
    {
     "name": "stdout",
     "output_type": "stream",
     "text": [
      "----------------------------------------------------------------\n",
      "        Layer (type)               Output Shape         Param #\n",
      "================================================================\n",
      "            Conv2d-1           [-1, 64, 26, 26]             640\n",
      "              ReLU-2           [-1, 64, 26, 26]               0\n",
      "            Conv2d-3          [-1, 128, 24, 24]          73,856\n",
      "              ReLU-4          [-1, 128, 24, 24]               0\n",
      "            Conv2d-5          [-1, 256, 22, 22]         295,168\n",
      "              ReLU-6          [-1, 256, 22, 22]               0\n",
      "            Conv2d-7          [-1, 256, 20, 20]         590,080\n",
      "              ReLU-8          [-1, 256, 20, 20]               0\n",
      "           Flatten-9               [-1, 102400]               0\n",
      "           Linear-10                    [-1, 1]         102,401\n",
      "================================================================\n",
      "Total params: 1,062,145\n",
      "Trainable params: 1,062,145\n",
      "Non-trainable params: 0\n",
      "----------------------------------------------------------------\n",
      "Input size (MB): 0.00\n",
      "Forward/backward pass size (MB): 6.02\n",
      "Params size (MB): 4.05\n",
      "Estimated Total Size (MB): 10.07\n",
      "----------------------------------------------------------------\n"
     ]
    }
   ],
   "source": [
    "class Discriminator(nn.Module):\n",
    "    def __init__(self):\n",
    "        super().__init__()\n",
    "\n",
    "        self.kernel_sz = (3, 3)\n",
    "        self.stride = 1\n",
    "\n",
    "        self.model = nn.Sequential(\n",
    "            # 1x28x28\n",
    "            nn.Conv2d(in_channels=1, out_channels=64, kernel_size=self.kernel_sz, stride=self.stride), # 64x26x26\n",
    "            nn.ReLU(),\n",
    "            nn.Conv2d(in_channels=64, out_channels=128, kernel_size=self.kernel_sz, stride=self.stride), # 128x24x24\n",
    "            nn.ReLU(),\n",
    "            nn.Conv2d(in_channels=128, out_channels=256, kernel_size=self.kernel_sz, stride=self.stride), # 256x22x22\n",
    "            nn.ReLU(),\n",
    "            nn.Conv2d(in_channels=256, out_channels=256, kernel_size=self.kernel_sz, stride=self.stride), # 256x20x20\n",
    "            nn.ReLU(),\n",
    "            nn.Flatten(),\n",
    "            nn.Linear(in_features=256 * 20 * 20, out_features=1)\n",
    "        )\n",
    "\n",
    "    def forward(self, x):\n",
    "        return self.model(x)\n",
    "\n",
    "\n",
    "Discriminator = Discriminator()\n",
    "Discriminator = Discriminator.to(device) # ensuring the whole nn is in a single device\n",
    "summary(model=Discriminator, input_size=(1, 28, 28), device=str(device))"
   ]
  },
  {
   "cell_type": "markdown",
   "metadata": {},
   "source": [
    "### Create Generator\n",
    "![](./resources/transposed-convolutional-layer-formula.png)\n",
    "- formula for calculating the output dimension of the transposed convolution operation"
   ]
  },
  {
   "cell_type": "code",
   "execution_count": 4,
   "metadata": {},
   "outputs": [
    {
     "name": "stdout",
     "output_type": "stream",
     "text": [
      "----------------------------------------------------------------\n",
      "        Layer (type)               Output Shape         Param #\n",
      "================================================================\n",
      "            Linear-1                 [-1, 3136]         316,736\n",
      "              ReLU-2                 [-1, 3136]               0\n",
      "         Unflatten-3             [-1, 64, 7, 7]               0\n",
      "   ConvTranspose2d-4           [-1, 32, 16, 16]          32,800\n",
      "              ReLU-5           [-1, 32, 16, 16]               0\n",
      "   ConvTranspose2d-6           [-1, 16, 34, 34]           8,208\n",
      "              ReLU-7           [-1, 16, 34, 34]               0\n",
      "            Conv2d-8            [-1, 1, 28, 28]             785\n",
      "              Tanh-9            [-1, 1, 28, 28]               0\n",
      "================================================================\n",
      "Total params: 358,529\n",
      "Trainable params: 358,529\n",
      "Non-trainable params: 0\n",
      "----------------------------------------------------------------\n",
      "Input size (MB): 0.00\n",
      "Forward/backward pass size (MB): 0.49\n",
      "Params size (MB): 1.37\n",
      "Estimated Total Size (MB): 1.86\n",
      "----------------------------------------------------------------\n"
     ]
    }
   ],
   "source": [
    "class Generator(nn.Module):\n",
    "    def __init__(self, latent_dim):\n",
    "        super().__init__()\n",
    "        self.model = nn.Sequential(\n",
    "            nn.Linear(in_features=latent_dim, out_features=7*7*64),  # [n, 256, 7, 7]\n",
    "            nn.ReLU(),\n",
    "            # reshape data from 1 dimension to batch of 2 dimensional data\n",
    "            nn.Unflatten(dim=1, unflattened_size=(64, 7, 7)),\n",
    "            \n",
    "            # reduce feature maps to 32, increase image size to 16x16\n",
    "            nn.ConvTranspose2d(in_channels=64, out_channels=32, kernel_size=4, stride=2),\n",
    "            nn.ReLU(),\n",
    "            # reduce feature maps to 16, increase image size to 28x28\n",
    "            nn.ConvTranspose2d(in_channels=32, out_channels=16, kernel_size=4, stride=2), # [n, 16, 34, 34]\n",
    "            nn.ReLU(),\n",
    "            \n",
    "            # reduce feature maps to 1, decrease image size to 28x28 \n",
    "            nn.Conv2d(in_channels=16, out_channels=1, kernel_size=7),  # [n, 1, 28, 28]\n",
    "            nn.Tanh()\n",
    "        )\n",
    "\n",
    "    def forward(self, x):\n",
    "        return self.model(x)\n",
    "\n",
    "\n",
    "# assume latent_dim for now\n",
    "latent_dim = 100\n",
    "Generator = Generator(latent_dim=latent_dim)\n",
    "Generator = Generator.to(device=device)\n",
    "summary(model=Generator, input_size=(latent_dim,), device=device)"
   ]
  },
  {
   "cell_type": "markdown",
   "metadata": {},
   "source": [
    "### Hyperparameters"
   ]
  },
  {
   "cell_type": "code",
   "execution_count": 5,
   "metadata": {},
   "outputs": [],
   "source": [
    "input_size = 784  # 28x28 pixels\n",
    "learning_rate = 0.001\n",
    "batch_size = 64\n",
    "num_epochs = 10  # Reduced for demonstration purposes"
   ]
  },
  {
   "cell_type": "markdown",
   "metadata": {},
   "source": [
    "# MNIST dataset"
   ]
  },
  {
   "cell_type": "code",
   "execution_count": 6,
   "metadata": {},
   "outputs": [],
   "source": [
    "train_dataset = datasets.MNIST(root=\"dataset/\", download=True, train=True, transform=transforms.ToTensor())\n",
    "train_loader = DataLoader(dataset=train_dataset, batch_size=batch_size, shuffle=True)\n",
    "\n",
    "test_dataset = datasets.MNIST(root=\"dataset/\", download=True, train=False, transform=transforms.ToTensor())\n",
    "test_loader = DataLoader(dataset=test_dataset, batch_size=batch_size, shuffle=True)"
   ]
  },
  {
   "cell_type": "code",
   "execution_count": 9,
   "metadata": {},
   "outputs": [
    {
     "data": {
      "image/png": "[encoded data removed]",
      "text/plain": [
       "<Figure size 1000x300 with 6 Axes>"
      ]
     },
     "metadata": {},
     "output_type": "display_data"
    }
   ],
   "source": [
    "examples = iter(train_loader)\n",
    "example_data, example_targets = next(examples)\n",
    "\n",
    "\n",
    "fig, axes = plt.subplots(1, 6, figsize=(10, 3))\n",
    "for i in range(6):\n",
    "    axes[i].imshow(example_data[i][0], cmap=\"gray\")\n",
    "    axes[i].set_title(f\"Label: {example_targets[i]}\")\n",
    "    axes[i].axis(\"off\")\n",
    "plt.show()"
   ]
  },
  {
   "cell_type": "code",
   "execution_count": 15,
   "metadata": {},
   "outputs": [
    {
     "name": "stdout",
     "output_type": "stream",
     "text": [
      "dim of single image = torch.Size([1, 28, 28])\n"
     ]
    }
   ],
   "source": [
    "print(f\"dim of single image = {example_data[0].size()}\")"
   ]
  }
 ],
 "metadata": {
  "kernelspec": {
   "display_name": "myEnv",
   "language": "python",
   "name": "python3"
  },
  "language_info": {
   "codemirror_mode": {
    "name": "ipython",
    "version": 3
   },
   "file_extension": ".py",
   "mimetype": "text/x-python",
   "name": "python",
   "nbconvert_exporter": "python",
   "pygments_lexer": "ipython3",
   "version": "3.12.3"
  }
 },
 "nbformat": 4,
 "nbformat_minor": 2
}
